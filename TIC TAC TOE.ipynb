{
 "cells": [
  {
   "cell_type": "code",
   "execution_count": 1,
   "metadata": {},
   "outputs": [],
   "source": [
    "def display_board(board):\n",
    "        print('{} | {} | {}'.format(board[1], board[2], board[3]))\n",
    "        print('---------')\n",
    "        print('{} | {} | {}'.format(board[4], board[5], board[6]))\n",
    "        print('---------')\n",
    "        print('{} | {} | {}'.format(board[7], board[8], board[9]))"
   ]
  },
  {
   "cell_type": "code",
   "execution_count": 2,
   "metadata": {},
   "outputs": [
    {
     "name": "stdout",
     "output_type": "stream",
     "text": [
      "1 | 2 | 3\n",
      "---------\n",
      "4 | 5 | 6\n",
      "---------\n",
      "7 | 8 | 9\n"
     ]
    }
   ],
   "source": [
    "board = [' ','1','2','3','4','5','6','7','8','9']     # size given 10 and not 9.\n",
    "display_board(board)                                  #position selection."
   ]
  },
  {
   "cell_type": "code",
   "execution_count": 3,
   "metadata": {},
   "outputs": [],
   "source": [
    "def player_marker():              #returns marker 'x' or 'o'\n",
    "    p = input('enter your marker: ')\n",
    "    return p"
   ]
  },
  {
   "cell_type": "code",
   "execution_count": 4,
   "metadata": {},
   "outputs": [],
   "source": [
    "def player_int_input():                   #returns the position at which marker is to be placed.\n",
    "    position = int(input(\"position: \"))\n",
    "    return position"
   ]
  },
  {
   "cell_type": "code",
   "execution_count": 5,
   "metadata": {},
   "outputs": [],
   "source": [
    "board = [' ', ' ', ' ',' ', ' ', ' ',' ', ' ', ' ',' ']      #returns a board list which can be taken up by display_board. \n",
    "def place_marker(board, marker, position):\n",
    "        board[position] = marker\n",
    "        return board        "
   ]
  },
  {
   "cell_type": "code",
   "execution_count": 6,
   "metadata": {},
   "outputs": [],
   "source": [
    "#display_board(place_marker(board, player_marker(), player_int_input()))"
   ]
  },
  {
   "cell_type": "code",
   "execution_count": 7,
   "metadata": {},
   "outputs": [],
   "source": [
    "def win_check(board, marker):\n",
    "    if board[1] == board[2] == board[3] == marker or board[4] == board[5] == board[6] == marker or board[7] == board[8] == board[9] == marker or board[1] == board[5] == board[9] == marker or board[3] == board[5] == board[7] == marker or board[1] == board[4] == board[7] == marker or board[2] == board[5] == board[8] == marker or board[3] == board[6] == board[9] == marker:\n",
    "        return 'you win!!'"
   ]
  },
  {
   "cell_type": "code",
   "execution_count": 8,
   "metadata": {},
   "outputs": [],
   "source": [
    "win_check(board, 'o')"
   ]
  },
  {
   "cell_type": "code",
   "execution_count": 9,
   "metadata": {},
   "outputs": [],
   "source": [
    "def space_check(board, position):    # checks if space is free or not\n",
    "    if board[position] != ' ':\n",
    "        return 'not free'\n",
    "    else:\n",
    "        return 'free space'"
   ]
  },
  {
   "cell_type": "code",
   "execution_count": 10,
   "metadata": {},
   "outputs": [],
   "source": [
    "def full_board_check(board):     # checks if the board is full or not.\n",
    "    for i in range(1,10):\n",
    "        if space_check(board, i) == 'free space':\n",
    "            return 'board is not full'\n",
    "        else: continue\n",
    "    return 'board is full'       "
   ]
  },
  {
   "cell_type": "code",
   "execution_count": 11,
   "metadata": {},
   "outputs": [
    {
     "data": {
      "text/plain": [
       "'board is not full'"
      ]
     },
     "execution_count": 11,
     "metadata": {},
     "output_type": "execute_result"
    }
   ],
   "source": [
    "full_board_check(board)"
   ]
  },
  {
   "cell_type": "code",
   "execution_count": 12,
   "metadata": {},
   "outputs": [],
   "source": [
    "def player_choice(board):\n",
    "    print('Enter position to be checked: ')\n",
    "    position = player_int_input()\n",
    "    if space_check(board, position) == 'free space':\n",
    "        print('position free')\n",
    "        return position\n",
    "    else:\n",
    "        print('position taken, choose again')\n",
    "        return player_choice(board)\n",
    "    "
   ]
  },
  {
   "cell_type": "code",
   "execution_count": 13,
   "metadata": {},
   "outputs": [],
   "source": [
    "def replay():\n",
    "    q = input('Do you wanna replay[T/F]: ')\n",
    "    return q"
   ]
  },
  {
   "cell_type": "code",
   "execution_count": null,
   "metadata": {},
   "outputs": [],
   "source": [
    "board = [' ', ' ', ' ',' ', ' ', ' ',' ', ' ', ' ',' '] \n",
    "print('Welcome to TIC TAC TOE!!')\n",
    "print(\"player1 choose your marker['x' or 'o']: \")\n",
    "player1 = player_marker()\n",
    "print(\"player2 choose your marker['x' or 'o']: \")\n",
    "player2 = player_marker()\n",
    "\n",
    "for a in range(9):       #full_board_check(board) != 'board is full':\n",
    "    \n",
    "#player1's tuen:\n",
    "\n",
    "    print('player1 your turn: ')\n",
    "    display_board(place_marker(board, player1, player_choice(board)))\n",
    "       \n",
    "    if win_check(board,player1) == 'you win!!' :\n",
    "        print('player1 wins')\n",
    "        break\n",
    "    \n",
    "    if full_board_check(board) == 'board is full':\n",
    "        print(\" It's a DRAW!!\")\n",
    "        break\n",
    "    \n",
    "# player2's turn:\n",
    "\n",
    "    print('player2 your turn: ')\n",
    "    display_board(place_marker(board, player2, player_choice(board)))   \n",
    "        \n",
    "    if win_check(board,player2) == 'you win!!' :\n",
    "        print('player2 wins')\n",
    "        break\n",
    "        \n",
    "    if full_board_check(board) == 'board is full':\n",
    "        print(\" It's a DRAW!!\")\n",
    "        break\n",
    "        \n",
    "    else: continue"
   ]
  },
  {
   "cell_type": "code",
   "execution_count": null,
   "metadata": {},
   "outputs": [],
   "source": []
  }
 ],
 "metadata": {
  "kernelspec": {
   "display_name": "Python 3",
   "language": "python",
   "name": "python3"
  },
  "language_info": {
   "codemirror_mode": {
    "name": "ipython",
    "version": 3
   },
   "file_extension": ".py",
   "mimetype": "text/x-python",
   "name": "python",
   "nbconvert_exporter": "python",
   "pygments_lexer": "ipython3",
   "version": "3.6.4"
  }
 },
 "nbformat": 4,
 "nbformat_minor": 2
}
